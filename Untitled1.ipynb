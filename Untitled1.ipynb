{
 "cells": [
  {
   "cell_type": "code",
   "execution_count": 6,
   "metadata": {},
   "outputs": [
    {
     "ename": "NameError",
     "evalue": "name 'TextClip' is not defined",
     "output_type": "error",
     "traceback": [
      "\u001b[1;31m---------------------------------------------------------------------------\u001b[0m",
      "\u001b[1;31mNameError\u001b[0m                                 Traceback (most recent call last)",
      "\u001b[1;32m<ipython-input-6-c05f99359065>\u001b[0m in \u001b[0;36m<module>\u001b[1;34m\u001b[0m\n\u001b[0;32m      8\u001b[0m \u001b[0mclip7\u001b[0m \u001b[1;33m=\u001b[0m \u001b[0mmp\u001b[0m\u001b[1;33m.\u001b[0m\u001b[0mVideoFileClip\u001b[0m\u001b[1;33m(\u001b[0m\u001b[1;34m\"vid7.mp4\"\u001b[0m\u001b[1;33m)\u001b[0m\u001b[1;33m.\u001b[0m\u001b[0msubclip\u001b[0m\u001b[1;33m(\u001b[0m\u001b[0mt_start\u001b[0m\u001b[1;33m=\u001b[0m\u001b[1;36m0\u001b[0m\u001b[1;33m,\u001b[0m\u001b[0mt_end\u001b[0m\u001b[1;33m=\u001b[0m\u001b[1;36m10\u001b[0m\u001b[1;33m)\u001b[0m\u001b[1;33m\u001b[0m\u001b[1;33m\u001b[0m\u001b[0m\n\u001b[0;32m      9\u001b[0m \u001b[1;33m\u001b[0m\u001b[0m\n\u001b[1;32m---> 10\u001b[1;33m \u001b[0mtxtClip1\u001b[0m \u001b[1;33m=\u001b[0m \u001b[0mTextClip\u001b[0m\u001b[1;33m(\u001b[0m\u001b[1;34m'отличный певец'\u001b[0m\u001b[1;33m,\u001b[0m\u001b[0mcolor\u001b[0m\u001b[1;33m=\u001b[0m\u001b[1;34m'green'\u001b[0m\u001b[1;33m,\u001b[0m \u001b[0mfont\u001b[0m\u001b[1;33m=\u001b[0m\u001b[1;34m\"Amiri-Bold\"\u001b[0m\u001b[1;33m,\u001b[0m \u001b[0mkerning\u001b[0m \u001b[1;33m=\u001b[0m \u001b[1;36m5\u001b[0m\u001b[1;33m,\u001b[0m \u001b[0mfontsize\u001b[0m\u001b[1;33m=\u001b[0m\u001b[1;36m100\u001b[0m\u001b[1;33m)\u001b[0m\u001b[1;33m\u001b[0m\u001b[1;33m\u001b[0m\u001b[0m\n\u001b[0m\u001b[0;32m     11\u001b[0m \u001b[0mtxtClip2\u001b[0m \u001b[1;33m=\u001b[0m \u001b[0mTextClip\u001b[0m\u001b[1;33m(\u001b[0m\u001b[1;34m'с ним невозможно спорить'\u001b[0m\u001b[1;33m,\u001b[0m\u001b[0mcolor\u001b[0m\u001b[1;33m=\u001b[0m\u001b[1;34m'green'\u001b[0m\u001b[1;33m,\u001b[0m \u001b[0mfont\u001b[0m\u001b[1;33m=\u001b[0m\u001b[1;34m\"Amiri-Bold\"\u001b[0m\u001b[1;33m,\u001b[0m \u001b[0mkerning\u001b[0m \u001b[1;33m=\u001b[0m \u001b[1;36m5\u001b[0m\u001b[1;33m,\u001b[0m \u001b[0mfontsize\u001b[0m\u001b[1;33m=\u001b[0m\u001b[1;36m100\u001b[0m\u001b[1;33m)\u001b[0m\u001b[1;33m\u001b[0m\u001b[1;33m\u001b[0m\u001b[0m\n\u001b[0;32m     12\u001b[0m \u001b[0mtxtClip3\u001b[0m \u001b[1;33m=\u001b[0m \u001b[0mTextClip\u001b[0m\u001b[1;33m(\u001b[0m\u001b[1;34m'непревзойденный шутник'\u001b[0m\u001b[1;33m,\u001b[0m\u001b[0mcolor\u001b[0m\u001b[1;33m=\u001b[0m\u001b[1;34m'green'\u001b[0m\u001b[1;33m,\u001b[0m \u001b[0mfont\u001b[0m\u001b[1;33m=\u001b[0m\u001b[1;34m\"Amiri-Bold\"\u001b[0m\u001b[1;33m,\u001b[0m \u001b[0mkerning\u001b[0m \u001b[1;33m=\u001b[0m \u001b[1;36m5\u001b[0m\u001b[1;33m,\u001b[0m \u001b[0mfontsize\u001b[0m\u001b[1;33m=\u001b[0m\u001b[1;36m100\u001b[0m\u001b[1;33m)\u001b[0m\u001b[1;33m\u001b[0m\u001b[1;33m\u001b[0m\u001b[0m\n",
      "\u001b[1;31mNameError\u001b[0m: name 'TextClip' is not defined"
     ]
    }
   ],
   "source": [
    "import moviepy.editor as mp\n",
    "from moviepy.editor import *\n",
    "from moviepy.video.tools.segmenting import findObjects\n",
    "clip1 = mp.VideoFileClip(\"vid1.mp4\").subclip(t_start=0,t_end=17).resize(width=640)\n",
    "clip2 = mp.VideoFileClip(\"vid2.mp4\").subclip(t_start=37.1,t_end=38.9)\n",
    "clip3 = mp.VideoFileClip(\"vid3.mp4\").subclip(t_start=32,t_end=45)\n",
    "clip4 = mp.VideoFileClip(\"vid4.mp4\").subclip(t_start=5).set_position(\"center\")\n",
    "clip5 = mp.VideoFileClip(\"vid5.mp4\")\n",
    "clip7 = mp.VideoFileClip(\"vid7.mp4\").subclip(t_start=0,t_end=10)\n",
    "        \n",
    "txtClip1 = mp.TextClip('отличный певец',color='green', font=\"Amiri-Bold\", kerning = 5, fontsize=100)\n",
    "txtClip2 = mp.TextClip('с ним невозможно спорить',color='green', font=\"Amiri-Bold\", kerning = 5, fontsize=100)\n",
    "txtClip3 = mp.TextClip('непревзойденный шутник',color='green', font=\"Amiri-Bold\", kerning = 5, fontsize=100)\n",
    "txtClip4 = mp.TextClip('эпилог',color='green', font=\"Amiri-Bold\", kerning = 5, fontsize=100)\n",
    "\n",
    "\n",
    "cvc1 = mp.CompositeVideoClip( [txtClip1.set_pos('center')], size=screensize)\n",
    "cvc2 = mp.CompositeVideoClip( [txtClip2.set_pos('center')], size=screensize)\n",
    "cvc3 = mp.CompositeVideoClip( [txtClip3.set_pos('center')], size=screensize)\n",
    "cvc4 = mp.CompositeVideoClip( [txtClip4.set_pos('center')], size=screensize)\n",
    "\n",
    "#audioclip = mp.AudioFileClip(\"a.mp3\").subclip(0,(1,44))\n",
    "#clip6=mp.VideoFileClip(\"vid6.mp4\")\n",
    "#masked_clip = clip6.fx(mp.vfx.mask_color, color=[0, 255, 8], thr=100, s=5)\n",
    "#masked_clip = masked_clip.resize(0.3).set_pos(('center', 'bottom'))\n",
    "def cascade(screenpos,i,nletters):\n",
    "    v = np.array([0,-1])\n",
    "    d = lambda t : 1 if t<0 else abs(np.sinc(t)/(1+t**4))\n",
    "    return lambda t: screenpos+v*400*d(t-0.15*i)\n",
    "\n",
    "def arrive(screenpos,i,nletters):\n",
    "    v = np.array([-1,0])\n",
    "    d = lambda t : max(0, 3-3*t)\n",
    "    return lambda t: screenpos-400*v*d(t-0.2*i)\n",
    "    \n",
    "def vortexout(screenpos,i,nletters):\n",
    "    d = lambda t : max(0,t) #damping\n",
    "    a = i*np.pi/ nletters # angle of the movement\n",
    "    v = rotMatrix(a).dot([-1,0])\n",
    "    if i%2 : v[1] = -v[1]\n",
    "    return lambda t: screenpos+400*d(t-0.1*i)*rotMatrix(-0.2*d(t)*a).dot(v)\n",
    "\n",
    "def moveLetters(letters, funcpos):\n",
    "    return [ letter.set_pos(funcpos(letter.screenpos,i,len(letters)))\n",
    "              for i,letter in enumerate(letters)]\n",
    "\n",
    "\n",
    "final_clip = mp.concatenate_videoclips([clip1,clip2,cvc1,clip3,cvc2,clip4,cvc3,clip7,cvc4,clip5])\n",
    "final_clip.write_videofile(\"ponasenkov.mp4\")"
   ]
  },
  {
   "cell_type": "code",
   "execution_count": 5,
   "metadata": {},
   "outputs": [
    {
     "data": {
      "text/plain": [
       "<moviepy.video.io.VideoFileClip.VideoFileClip at 0x1be6df87788>"
      ]
     },
     "execution_count": 5,
     "metadata": {},
     "output_type": "execute_result"
    }
   ],
   "source": [
    "clip6"
   ]
  },
  {
   "cell_type": "code",
   "execution_count": null,
   "metadata": {},
   "outputs": [],
   "source": []
  }
 ],
 "metadata": {
  "kernelspec": {
   "display_name": "Python 3",
   "language": "python",
   "name": "python3"
  },
  "language_info": {
   "codemirror_mode": {
    "name": "ipython",
    "version": 3
   },
   "file_extension": ".py",
   "mimetype": "text/x-python",
   "name": "python",
   "nbconvert_exporter": "python",
   "pygments_lexer": "ipython3",
   "version": "3.7.4"
  }
 },
 "nbformat": 4,
 "nbformat_minor": 2
}
